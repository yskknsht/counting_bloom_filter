{
 "cells": [
  {
   "cell_type": "markdown",
   "id": "8da90ea6",
   "metadata": {},
   "source": [
    "# **<font color='green'>Option 2: Find plagiarism with Counting Bloom Filters</font>**"
   ]
  },
  {
   "cell_type": "markdown",
   "id": "2263e484",
   "metadata": {},
   "source": [
    "## Python Implementation of CBF"
   ]
  },
  {
   "cell_type": "code",
   "execution_count": 4,
   "id": "37930c54",
   "metadata": {},
   "outputs": [],
   "source": [
    "import numpy as np\n",
    "import math\n",
    "\n",
    "class CountingBloomFilter():\n",
    "    \"\"\"\n",
    "    Implement the counting bloom filter which supports:\n",
    "    - search: queries the membership of an element\n",
    "    - insert: inserts a string to the filter\n",
    "    - delete: removes a string from the filter\n",
    "    \"\"\"\n",
    "    def __init__ (self, num_items, fpr = 0.02, num_hashfn = 0):\n",
    "        \"\"\"\n",
    "        - num_items: int, number of items stored\n",
    "        - fpr: float, false-positive rate\n",
    "        - num_hashfn: int, number of hash functions\n",
    "        \"\"\"\n",
    "        #initialize an empty CBF\n",
    "        self.num_items = 0\n",
    "        self.memory_size = int(- 1.44 * num_items  * np.log2(fpr) / np.log2(2)) \n",
    "        self.bit_array = [0] * self.memory_size\n",
    "        \n",
    "        # Assign 0.02 for fpr, if not specified\n",
    "        if fpr > 0:\n",
    "            self.fpr = fpr\n",
    "        else:\n",
    "            fpr = 0.02\n",
    "        \n",
    "        # Initialize an optimal number of hash functions, if not specified \n",
    "        if num_hashfn == 0:\n",
    "            if int(-np.log2(fpr)) > 0:\n",
    "                self.num_hashfn = int(round(-np.log2(fpr)))\n",
    "            else:\n",
    "                self.num_hashfn = 1\n",
    "        else:\n",
    "            self.num_hashfn = num_hashfn\n",
    "    \n",
    "    def hash_function(self, item, i):\n",
    "        \"\"\"\n",
    "        Convert a string to an integer \n",
    "        representation for hashing\n",
    "\n",
    "        Parameters\n",
    "        ----------\n",
    "        item: str\n",
    "            the input string that needs to be hashed\n",
    "        i: int\n",
    "            the i-th hash function we are hashing\n",
    "\n",
    "        Returns\n",
    "        ----------\n",
    "        hash_index: int\n",
    "            the integer value to be used for the final hash\n",
    "        \"\"\"\n",
    "        #\"prime\" number changes with different i \n",
    "        prime = 2 ** i\n",
    "        \n",
    "        hash_index = 0\n",
    "        \n",
    "        # For every character in the input text\n",
    "        for char in range(len(item)):\n",
    "            \n",
    "            # hash calculation based on character\n",
    "            int_char = ord(item[char]) * (prime ** char) \n",
    "            hash_index = (hash_index + (int_char ** 2)) % self.memory_size \n",
    "        \n",
    "        return hash_index\n",
    "    \n",
    "    def hash_cbf(self, item):\n",
    "        \"\"\"\n",
    "        Returns hash values of an item\n",
    "        Parameter \n",
    "        ----------\n",
    "        item: string\n",
    "            the input string that needs to be hashed\n",
    "        Returns\n",
    "        ----------\n",
    "        hash_values: list\n",
    "            list of hash values each indicates the element in the filter\n",
    "        \"\"\"\n",
    "        hash_values = []\n",
    "        \n",
    "        # Perform hash calculations based on the number of hash functions\n",
    "        for i in range(self.num_hashfn):\n",
    "            hash_index = self.hash_function(item, i)\n",
    "            hash_values.append(hash_index)\n",
    "            \n",
    "        return hash_values\n",
    " \n",
    "    def search(self, item):\n",
    "        \"\"\"\n",
    "        Judges whether the queried value is stored in the filter or not\n",
    "        Parameter\n",
    "        ----------\n",
    "        item: string\n",
    "            the data of query\n",
    "        Returns\n",
    "        ----------\n",
    "        True/False: boolean\n",
    "            Returns False if the item definitely doesn't exist. Otherwise, return True.\n",
    "        \"\"\"\n",
    "        # if any of the element in the filter is 0,\n",
    "        for i in self.hash_cbf(item):\n",
    "            if self.bit_array[i] == 0: \n",
    "                return False\n",
    "        \n",
    "        # all elements are more than zero\n",
    "        # item likely to exist\n",
    "        return True\n",
    "\n",
    "    def insert(self, item):\n",
    "        \"\"\"\n",
    "        Includes the item into the filter\n",
    "        Parameter\n",
    "        ---------\n",
    "        item: string\n",
    "            the data that needs to be added to the filter\n",
    "        Returns\n",
    "        ---------\n",
    "        None\n",
    "        \"\"\"\n",
    "        # perform hashing to the item\n",
    "        for i in self.hash_cbf(item):\n",
    "            \n",
    "            # increase the count of suggested element\n",
    "            self.bit_array[i] += 1 \n",
    "            \n",
    "        self.num_items += 1\n",
    "\n",
    "    def delete(self, item):\n",
    "        \"\"\"\n",
    "        Removes the item from the filter\n",
    "        Parameter\n",
    "        ---------\n",
    "        item: string\n",
    "            the data that needs to be removed from the filter\n",
    "        Returns\n",
    "        ---------\n",
    "        None\n",
    "        \"\"\"\n",
    "        # perform hashing to the item\n",
    "        for i in self.hash_cbf(item): \n",
    "            \n",
    "            # decrease the count if the item exists\n",
    "            if self.bit_array[i] > 0: \n",
    "                self.bit_array[i] -= 1 \n",
    "                \n",
    "        self.num_items -= 1"
   ]
  },
  {
   "cell_type": "code",
   "execution_count": 5,
   "id": "67893dde",
   "metadata": {},
   "outputs": [],
   "source": [
    "#import text data\n",
    "from requests import get\n",
    "url_version_1 = 'https://bit.ly/39MurYb'\n",
    "url_version_2 = 'https://bit.ly/3we1QCp'\n",
    "url_version_3 = 'https://bit.ly/3vUecRn'\n",
    "\n",
    "\n",
    "def get_txt_into_list_of_words(url):\n",
    "    '''\n",
    "    Cleans the text data\n",
    "    Parameter\n",
    "    ----------\n",
    "    url : string\n",
    "        The URL for the txt file\n",
    "        \n",
    "    Returns\n",
    "    -------\n",
    "    data_just_words_lower_case: list\n",
    "        List of \"cleaned-up\" words sorted by the order they appear in the original file.\n",
    "    '''\n",
    "    bad_chars = [';', ',', '.', '?', '!', '_', '[', ']', '(', ')', '*']\n",
    "    data = get(url).text\n",
    "    data = ''.join(c for c in data if c not in bad_chars)\n",
    "    data_without_newlines = ''.join(\n",
    "        c if (c not in ['\\n', '\\r', '\\t']) else \" \" for c in data)\n",
    "    data_just_words = [\n",
    "        word for word in data_without_newlines.split(\" \") if word != \"\"]\n",
    "    data_just_words_lower_case = [word.lower() for word in data_just_words]\n",
    "    return data_just_words_lower_case\n",
    "\n",
    "\n",
    "version_1 = get_txt_into_list_of_words(url_version_1)\n",
    "version_2 = get_txt_into_list_of_words(url_version_2)\n",
    "version_3 = get_txt_into_list_of_words(url_version_3)"
   ]
  },
  {
   "cell_type": "markdown",
   "id": "968a1a99",
   "metadata": {},
   "source": [
    "## Test cases"
   ]
  },
  {
   "cell_type": "code",
   "execution_count": 6,
   "id": "c8dac18c",
   "metadata": {},
   "outputs": [
    {
     "name": "stdout",
     "output_type": "stream",
     "text": [
      "All test cases passed!\n"
     ]
    }
   ],
   "source": [
    "# Create a small CBF with num_items = 10\n",
    "cbf = CountingBloomFilter(10)\n",
    "\n",
    "assert(cbf.hash_cbf(\"cs110\") == cbf.hash_cbf(\"cs110\")) #same output\n",
    "assert(cbf.hash_cbf(\"cs111\") != cbf.hash_cbf(\"cs110\")) #one character change\n",
    "assert(cbf.hash_cbf(\"cs110\") != cbf.hash_cbf(\"Cs110\")) #capitalization\n",
    "assert(cbf.hash_cbf(\"*\") != cbf.hash_cbf(\"+\")) #special character\n",
    "assert(cbf.hash_cbf(\"-123456\") == cbf.hash_cbf(\"-123456\")) #numbers\n",
    "\n",
    "print(\"All test cases passed!\")"
   ]
  },
  {
   "cell_type": "code",
   "execution_count": 7,
   "id": "3f52bc14",
   "metadata": {},
   "outputs": [
    {
     "name": "stdout",
     "output_type": "stream",
     "text": [
      "initial CBF:  [0, 0, 0, 0, 0, 0, 0, 0, 0, 0, 0, 0, 0, 0, 0, 0, 0, 0, 0, 0, 0, 0, 0, 0, 0, 0, 0, 0, 0, 0, 0, 0, 0, 0, 0, 0, 0, 0, 0, 0, 0, 0, 0, 0, 0, 0, 0, 0, 0, 0, 0, 0, 0, 0, 0, 0, 0, 0, 0, 0, 0, 0, 0, 0, 0, 0, 0, 0, 0, 0, 0, 0, 0, 0, 0, 0, 0, 0, 0, 0, 0, 0, 0, 0, 0, 0, 0, 0, 0, 0, 0, 0, 0, 0, 0, 0, 0, 0, 0, 0, 0, 0, 0, 0, 0, 0, 0, 0, 0, 0, 0, 0, 0, 0, 0, 0, 0, 0, 0, 0, 0, 0, 0, 0, 0, 0, 0, 0, 0, 0, 0, 0, 0, 0, 0, 0, 0, 0, 0, 0, 0, 0, 0, 0, 0, 0, 0, 0, 0, 0, 0, 0, 0, 0, 0, 0, 0, 0, 0, 0, 0, 0]\n",
      "inserted CBF:  [0, 1, 0, 1, 3, 1, 0, 0, 1, 2, 1, 0, 3, 1, 0, 0, 1, 1, 0, 0, 0, 1, 0, 0, 0, 0, 0, 0, 0, 0, 0, 0, 2, 1, 0, 0, 0, 1, 0, 0, 2, 1, 0, 0, 0, 1, 0, 0, 2, 1, 2, 1, 0, 0, 0, 2, 1, 0, 7, 0, 0, 0, 0, 1, 0, 0, 0, 3, 2, 2, 0, 1, 1, 0, 0, 0, 0, 2, 0, 0, 0, 3, 2, 0, 0, 1, 2, 0, 1, 1, 1, 3, 1, 2, 4, 0, 1, 0, 0, 0, 0, 0, 0, 0, 2, 2, 0, 0, 0, 2, 0, 0, 0, 0, 0, 1, 0, 1, 1, 0, 2, 0, 0, 0, 0, 0, 0, 1, 1, 0, 1, 0, 3, 1, 2, 0, 0, 1, 0, 2, 1, 0, 0, 2, 0, 2, 0, 1, 3, 0, 0, 0, 0, 0, 0, 0, 4, 0, 1, 0, 0, 2]\n",
      "deleted CBF:  [0, 1, 0, 1, 3, 0, 0, 0, 1, 2, 0, 0, 3, 1, 0, 0, 0, 1, 0, 0, 0, 1, 0, 0, 0, 0, 0, 0, 0, 0, 0, 0, 2, 1, 0, 0, 0, 1, 0, 0, 2, 1, 0, 0, 0, 1, 0, 0, 2, 0, 2, 1, 0, 0, 0, 2, 1, 0, 6, 0, 0, 0, 0, 1, 0, 0, 0, 3, 2, 2, 0, 1, 1, 0, 0, 0, 0, 1, 0, 0, 0, 3, 1, 0, 0, 1, 2, 0, 0, 1, 1, 3, 1, 2, 4, 0, 1, 0, 0, 0, 0, 0, 0, 0, 2, 2, 0, 0, 0, 2, 0, 0, 0, 0, 0, 0, 0, 1, 1, 0, 2, 0, 0, 0, 0, 0, 0, 0, 1, 0, 0, 0, 3, 0, 2, 0, 0, 1, 0, 2, 1, 0, 0, 1, 0, 1, 0, 1, 2, 0, 0, 0, 0, 0, 0, 0, 4, 0, 1, 0, 0, 1]\n",
      "'d' is a false positive!\n",
      "Found  1  false postive case in testing  24 words.\n"
     ]
    }
   ],
   "source": [
    "from random import shuffle\n",
    "\n",
    "# words to be added\n",
    "word_present = ['apple', 'banana',\n",
    "\t\t\t\t'banoffe', 'barbeque', 'custard',\n",
    "\t\t\t\t'cucumber', 'dates', 'eggs',\n",
    "\t\t\t\t'eclair', 'edamame',\n",
    "\t\t\t\t'falafel', 'fennel', 'goat cheese',\n",
    "\t\t\t\t'gnocchi', 'haddock',\n",
    "\t\t\t\t'herring', 'hot dog', \n",
    "\t\t\t\t'icing', 'j']\n",
    "\n",
    "# words not added\n",
    "word_absent = ['blueberry', 'nanana', 'Banana',\n",
    "\t\t\t'ehhs', 'kam',\n",
    "\t\t\t'eclsir', 'esamame', 'ising',\n",
    "\t\t\t'hotdong', 'date',\n",
    "\t\t\t'gnochi', 'herrring', 'joat cheese', 'd']\n",
    "\n",
    "# words to be deleted\n",
    "word_remove = ['apple', 'fennel', 'ice cream', 'carrot']\n",
    "\n",
    "# initializing CBF \n",
    "cbf = CountingBloomFilter(num_items = 20)\n",
    "print(\"initial CBF: \", cbf.bit_array)\n",
    "\n",
    "#insert the words\n",
    "for item in word_present:\n",
    "    cbf.insert(item)\n",
    "print(\"inserted CBF: \", cbf.bit_array)\n",
    "\n",
    "#remove the words\n",
    "for item in word_remove:\n",
    "    cbf.delete(item)    \n",
    "print(\"deleted CBF: \", cbf.bit_array)\n",
    "\n",
    "#shuffle the words\n",
    "shuffle(word_present)\n",
    "shuffle(word_absent)\n",
    "\n",
    "#prepare test case\n",
    "test_words = word_present[:10] + word_absent\n",
    "shuffle(test_words)\n",
    "fp = 0\n",
    "\n",
    "for word in test_words:\n",
    "    if cbf.search(word):\n",
    "        #if an absent word was detected in search, false-positive case\n",
    "        if word in word_absent:\n",
    "            fp += 1\n",
    "            print(\"'{}' is a false positive!\".format(word))\n",
    "\n",
    "#print the false positive\n",
    "print(\"Found \", fp, \" false postive case in testing \", len(test_words), \"words.\")"
   ]
  },
  {
   "cell_type": "markdown",
   "id": "41897b45",
   "metadata": {},
   "source": [
    "## Evaluating hash functions"
   ]
  },
  {
   "cell_type": "code",
   "execution_count": 8,
   "id": "557a1446",
   "metadata": {},
   "outputs": [
    {
     "name": "stdout",
     "output_type": "stream",
     "text": [
      "Collisions: 0 out of 2228 words (0.0%)\n"
     ]
    },
    {
     "data": {
      "image/png": "[encoded data removed]",
      "text/plain": [
       "<Figure size 432x288 with 1 Axes>"
      ]
     },
     "metadata": {
      "needs_background": "light"
     },
     "output_type": "display_data"
    }
   ],
   "source": [
    "import matplotlib.pyplot as plt\n",
    "\n",
    "def hashv_dist(data):\n",
    "    \"\"\"\n",
    "    Visualize the distribution\n",
    "    of hash values for the specified\n",
    "    list of words\n",
    "\n",
    "    Parameter\n",
    "    ----------\n",
    "    data: list\n",
    "        words to hash\n",
    "\n",
    "    Returns\n",
    "    -------\n",
    "    None\n",
    "        shows the histogram of hash value distribution\n",
    "    \"\"\"\n",
    "    # Initialize variables and CBF\n",
    "    data_length = len(data)\n",
    "    cbf = CountingBloomFilter(data_length)\n",
    "    all_hash_fingerprints = []\n",
    "    all_indices = []\n",
    "    num_collisions = 0\n",
    "\n",
    "    for word in data:\n",
    "        # Store all hash values for every word\n",
    "        hashes = cbf.hash_cbf(word)\n",
    "        all_indices += hashes\n",
    "        \n",
    "        # Store collisions in the hash values\n",
    "        if hashes in all_hash_fingerprints:\n",
    "            num_collisions += 1\n",
    "        \n",
    "        all_hash_fingerprints.append(hashes)\n",
    "\n",
    "    print(\"Collisions:\", num_collisions, \n",
    "        f\"out of {data_length} words ({num_collisions/data_length}%)\")\n",
    "\n",
    "    plt.hist(all_indices)\n",
    "    plt.xlabel(\"Array Indices\")\n",
    "    plt.ylabel(\"Frequency\")\n",
    "    plt.title( f\"Distribution of Hash Values for {data_length} Unique Words\")\n",
    "    plt.show()\n",
    "    \n",
    "# Visualize Version 1 with optimal number of hash functions\n",
    "# using set() to eliminate overlapping words in the text data\n",
    "hashv_dist(set(version_1))"
   ]
  },
  {
   "cell_type": "markdown",
   "id": "dbc87198",
   "metadata": {},
   "source": [
    "## Memory size and False Positive Rate (FPR)"
   ]
  },
  {
   "cell_type": "code",
   "execution_count": 6,
   "id": "85090644",
   "metadata": {},
   "outputs": [
    {
     "data": {
      "image/png": "[encoded data removed]",
      "text/plain": [
       "<Figure size 432x288 with 1 Axes>"
      ]
     },
     "metadata": {
      "needs_background": "light"
     },
     "output_type": "display_data"
    }
   ],
   "source": [
    "import matplotlib.pyplot as plt\n",
    "\n",
    "def fpr_vs_memory_size(data):\n",
    "    \"\"\"\n",
    "    Visualize change in memory size \n",
    "    with increasing FPR\n",
    "\n",
    "    Parameter\n",
    "    ----------\n",
    "    data: list\n",
    "        the dataset to test on\n",
    "\n",
    "    Returns\n",
    "    -------\n",
    "    None\n",
    "        visualizes the relationship between the two variables\n",
    "    \"\"\"\n",
    "    data_length = len(data)\n",
    "    memory_sizes = []\n",
    "    fprs = []\n",
    "    fpr = 0.01\n",
    "\n",
    "    while fpr < 0.95:\n",
    "        #create CBF\n",
    "        cbf = CountingBloomFilter(data_length, fpr = fpr) \n",
    "        # track memory size\n",
    "        memory_sizes.append(cbf.memory_size) \n",
    "        #store the fpr\n",
    "        fprs.append(fpr * 100) \n",
    "        #increment fpr by 5%\n",
    "        fpr += 0.05 \n",
    "    \n",
    "    plt.plot(fprs, memory_sizes)\n",
    "    plt.xlabel(\"False Positive Rate (%)\")\n",
    "    plt.ylabel(\"Memory Size\")\n",
    "    plt.title(\"Change in Memory Size with FPR\")\n",
    "    plt.show()\n",
    "\n",
    "# Use Version 1 (Shakespeare's works) for testing\n",
    "fpr_vs_memory_size(version_1)"
   ]
  },
  {
   "cell_type": "markdown",
   "id": "4a9507c0",
   "metadata": {},
   "source": [
    "## Memory size and number of items with fixed FPR"
   ]
  },
  {
   "cell_type": "code",
   "execution_count": 7,
   "id": "3684217e",
   "metadata": {},
   "outputs": [
    {
     "data": {
      "image/png": "[encoded data removed]",
      "text/plain": [
       "<Figure size 432x288 with 1 Axes>"
      ]
     },
     "metadata": {
      "needs_background": "light"
     },
     "output_type": "display_data"
    }
   ],
   "source": [
    "def items_vs_memory_size(limit):\n",
    "    \"\"\"\n",
    "    Visualize change in memory size \n",
    "    with increasing number of items\n",
    "\n",
    "    Parameters\n",
    "    ----------\n",
    "    limit: int\n",
    "        the limit on number of items to test\n",
    "\n",
    "    Returns\n",
    "    -------\n",
    "    None\n",
    "        visualizes the relationship between the two variables\n",
    "    \"\"\"\n",
    "    num_items = 50\n",
    "    memory_sizes = []\n",
    "    num_items_arr = []\n",
    "\n",
    "    while num_items < limit:\n",
    "        #create CBF\n",
    "        cbf = CountingBloomFilter(num_items) \n",
    "        #track memory sizes\n",
    "        memory_sizes.append(cbf.memory_size) \n",
    "        #track number of items\n",
    "        num_items_arr.append(num_items) \n",
    "        #increment number of items\n",
    "        num_items += 100 \n",
    "    \n",
    "\n",
    "    plt.plot(num_items_arr, memory_sizes)\n",
    "    plt.xlabel(\"Number of Items\")\n",
    "    plt.ylabel(\"Memory Size\")\n",
    "    plt.title(\"Change in Memory Size with Number of Items\")\n",
    "    plt.show()\n",
    "\n",
    "# Test up to 10k items\n",
    "items_vs_memory_size(10000)"
   ]
  },
  {
   "cell_type": "markdown",
   "id": "c2ef4452",
   "metadata": {},
   "source": [
    "## FPR and number of hash functions"
   ]
  },
  {
   "cell_type": "code",
   "execution_count": 12,
   "id": "e1ea480c",
   "metadata": {},
   "outputs": [
    {
     "data": {
      "image/png": "[encoded data removed]",
      "text/plain": [
       "<Figure size 432x288 with 1 Axes>"
      ]
     },
     "metadata": {
      "needs_background": "light"
     },
     "output_type": "display_data"
    }
   ],
   "source": [
    "def hash_fns_vs_fpr(hash_fn_limit, fpr = 0.02):\n",
    "    \"\"\"\n",
    "    Visualize change in FPR \n",
    "    with increasing number of\n",
    "    hash functions\n",
    "\n",
    "    Parameters\n",
    "    ----------\n",
    "    - hash_fn_limit: int\n",
    "        the limit on number of hash functions to use\n",
    "    - fpr: float\n",
    "        the FPR to use\n",
    "\n",
    "    Returns\n",
    "    -------\n",
    "    None\n",
    "        visualizes the relationship between the two variables\n",
    "    \"\"\"\n",
    "    fprs = []\n",
    "    num_hash_fns_arr = []\n",
    "    num_hash_fns = 1\n",
    "    \n",
    "    # get unique words from text\n",
    "    data = list(set(version_1)) \n",
    "    num_items = len(data) // 2\n",
    "\n",
    "    while num_hash_fns < hash_fn_limit:\n",
    "        # Create CBF\n",
    "        cbf = CountingBloomFilter(num_items, fpr = fpr, num_hashfn=num_hash_fns)\n",
    "\n",
    "        # insert half the dataset to CBF\n",
    "        for word in data[:num_items]:\n",
    "            cbf.insert(word)\n",
    "\n",
    "        # Search CBF using the other half of \n",
    "        # the dataset, looking for false positives\n",
    "        num_false_positives = 0\n",
    "        for word in data[num_items:]:\n",
    "            if cbf.search(word):\n",
    "                num_false_positives += 1\n",
    "        \n",
    "        #track fpr\n",
    "        fprs.append((num_false_positives/num_items) * 100) \n",
    "        \n",
    "        num_hash_fns_arr.append(num_hash_fns)\n",
    "        #increment number of hash functions\n",
    "        num_hash_fns += 1 \n",
    "        \n",
    "    plt.plot(num_hash_fns_arr, fprs)\n",
    "    plt.xlabel(\"Number of Hash Functions\")\n",
    "    plt.ylabel(\"False Positive Rate (%)\")\n",
    "    plt.title(\"Change in FPR with\\n\" + \\\n",
    "        \"Number of Hash Functions\\n\")\n",
    "    plt.show()\n",
    "\n",
    "hash_fns_vs_fpr(10)"
   ]
  },
  {
   "cell_type": "markdown",
   "id": "5947bef2",
   "metadata": {},
   "source": [
    "## Access time to hash values and number of items with fixed FPR"
   ]
  },
  {
   "cell_type": "code",
   "execution_count": 37,
   "id": "9acf98c1",
   "metadata": {},
   "outputs": [
    {
     "data": {
      "image/png": "[encoded data removed]",
      "text/plain": [
       "<Figure size 432x288 with 1 Axes>"
      ]
     },
     "metadata": {
      "needs_background": "light"
     },
     "output_type": "display_data"
    }
   ],
   "source": [
    "from time import process_time\n",
    "\n",
    "def num_items_vs_time(data):\n",
    "    \"\"\"\n",
    "    Visualize change in access time\n",
    "    to hash values with increasing \n",
    "    number of items (at constant FPR)\n",
    "\n",
    "    Parameter\n",
    "    ----------\n",
    "    - data: list\n",
    "        the dataset to use\n",
    "\n",
    "    Returns\n",
    "    -------\n",
    "    None\n",
    "        visualizes the relationship between the two variables\n",
    "    \"\"\"\n",
    "    times = []\n",
    "    num_items_arr = []\n",
    "    num_items = 1000\n",
    "    data = version_1 \n",
    "\n",
    "    # Word to search for later in the CBF\n",
    "    subject = \"love\"\n",
    "\n",
    "    while num_items < len(data):\n",
    "        # Create CBF\n",
    "        cbf = CountingBloomFilter(num_items) \n",
    "\n",
    "        # insert the data subset to CBF\n",
    "        for word in data[:num_items]:\n",
    "            cbf.insert(word)\n",
    "        \n",
    "        total_time = 0\n",
    "\n",
    "        for i in range(100):\n",
    "            #start time\n",
    "            start_time = process_time() \n",
    "            # perform searching\n",
    "            result = cbf.search(subject) \n",
    "            # substitute start time from finish time\n",
    "            total_time += process_time() - start_time \n",
    "        \n",
    "        # Track the average time of 100 trials \n",
    "        times.append(total_time / 100)\n",
    "\n",
    "        # Increment the number of items\n",
    "        num_items_arr.append(num_items)\n",
    "        num_items += 100 # step size = 100\n",
    "  \n",
    "    plt.plot(num_items_arr, times)\n",
    "    plt.xlabel(\"Number of Items\")\n",
    "    plt.ylabel(\"Time (seconds)\")\n",
    "    plt.title(\"Trend in Average Access Time to Hash Values\\n with Increasing Number of Items\")\n",
    "    plt.show()\n",
    "\n",
    "# Test on Version 1\n",
    "num_items_vs_time(version_1)"
   ]
  },
  {
   "cell_type": "markdown",
   "id": "5b100e2d",
   "metadata": {},
   "source": [
    "## CBF-based plagiarism detector"
   ]
  },
  {
   "cell_type": "code",
   "execution_count": 9,
   "id": "2d7954bf",
   "metadata": {},
   "outputs": [],
   "source": [
    "class PlagiarismChecker():\n",
    "    def __init__ (self, text_1, text_2, fpr = 0.02, phrase_size = 4):\n",
    "        \"\"\"\n",
    "        - text_1: list, the first text file with list of words\n",
    "        - text_2: list, the second text file with list of words\n",
    "        - fpr: float, false-positive rate\n",
    "        - phrase_size: int, how many sequence of words count as plagiarism\n",
    "        \"\"\"\n",
    "        self.phrase_size = 4 \n",
    "\n",
    "        # determine longer and shorter texts\n",
    "        if len(text_1) > len(text_2):\n",
    "            self.longer = text_1\n",
    "            self.shorter = text_2\n",
    "        else:\n",
    "            self.longer = text_2\n",
    "            self.shorter = text_1\n",
    "\n",
    "        # define CBF\n",
    "        self.cbf = CountingBloomFilter(len(self.shorter), fpr = fpr)\n",
    "        self.base_text()\n",
    "\n",
    "    def base_text(self):\n",
    "        \"\"\"\n",
    "        Create the CBF using shorter text (hashing & inserting)\n",
    "        Parameters\n",
    "        ----------\n",
    "        None\n",
    "        \n",
    "        Returns\n",
    "        ----------\n",
    "        None\n",
    "        \"\"\"\n",
    "        num_words = len(self.shorter) \n",
    "        start = 0\n",
    "        end = self.phrase_size\n",
    "        \n",
    "        # if less than phrase_size words left\n",
    "        if self.phrase_size > num_words: \n",
    "            end = num_words - 1\n",
    "        \n",
    "        # concatenate first words into phrases\n",
    "        current = \"\".join(self.shorter[start:end]) \n",
    "        while end < num_words:\n",
    "            # insert phrase to CBF\n",
    "            self.cbf.insert(current) \n",
    "\n",
    "            # sliding forward\n",
    "            start_word_length = len(self.shorter[start])\n",
    "            current = current[start_word_length:] \n",
    "            current += self.shorter[end]\n",
    "            \n",
    "            # Increase counters\n",
    "            start += 1\n",
    "            end += 1\n",
    "        \n",
    "        # insert last phrase to cbf\n",
    "        self.cbf.insert(current) \n",
    "\n",
    "    def detector(self):\n",
    "        \"\"\"\n",
    "        Detect plagiarism in the two texts using CBF\n",
    "        \n",
    "        Parameters\n",
    "        ----------\n",
    "        None\n",
    "        \n",
    "        Returns\n",
    "        ----------\n",
    "        result: float\n",
    "            the percentage of common phrases between two texts\n",
    "        \"\"\"\n",
    "        #initialize empty common word list\n",
    "        common_words = [] \n",
    "        iterations = 0 \n",
    "        m = self.cbf.memory_size \n",
    "        num_words = len(self.longer)\n",
    "        start = 0\n",
    "        end = self.phrase_size\n",
    "        \n",
    "        #if less than phrase_size words left\n",
    "        if self.phrase_size > num_words: \n",
    "            end = num_words - 1\n",
    "\n",
    "        while end < num_words:\n",
    "            # concatenate words into phrases\n",
    "            current = \"\".join(self.longer[start:end])\n",
    "            \n",
    "            # if the current hash exists in CBF from shorter text\n",
    "            if self.cbf.search(current):\n",
    "                common_words.append(self.longer[start:end])\n",
    "        \n",
    "            # Increase counters\n",
    "            start += 1\n",
    "            end += 1\n",
    "            it## Test caseserations += 1\n",
    "        \n",
    "        # Calculate % of common word detections\n",
    "        result = (len(common_words) / iterations) * 100\n",
    "        return (round(result,2), \"% of the \", self.phrase_size, \" consequtive words are overlapping.\")"
   ]
  },
  {
   "cell_type": "markdown",
   "id": "d33996d3",
   "metadata": {},
   "source": [
    "## Test cases"
   ]
  },
  {
   "cell_type": "code",
   "execution_count": 10,
   "id": "e0d5cc65",
   "metadata": {},
   "outputs": [
    {
     "data": {
      "text/plain": [
       "(1.87, '% of the ', 4, ' consequtive words are overlapping.')"
      ]
     },
     "execution_count": 10,
     "metadata": {},
     "output_type": "execute_result"
    }
   ],
   "source": [
    "case1 = PlagiarismChecker(version_1, version_2)\n",
    "case1.detector()"
   ]
  },
  {
   "cell_type": "code",
   "execution_count": 11,
   "id": "3f385899",
   "metadata": {},
   "outputs": [
    {
     "data": {
      "text/plain": [
       "(1.82, '% of the ', 4, ' consequtive words are overlapping.')"
      ]
     },
     "execution_count": 11,
     "metadata": {},
     "output_type": "execute_result"
    }
   ],
   "source": [
    "#checking between version 1 and 3\n",
    "case2 = PlagiarismChecker(version_1, version_3)\n",
    "case2.detector()"
   ]
  },
  {
   "cell_type": "code",
   "execution_count": 12,
   "id": "3d89b06d",
   "metadata": {},
   "outputs": [
    {
     "data": {
      "text/plain": [
       "(2.23, '% of the ', 4, ' consequtive words are overlapping.')"
      ]
     },
     "execution_count": 12,
     "metadata": {},
     "output_type": "execute_result"
    }
   ],
   "source": [
    "#checking between version 2 and 3\n",
    "case3 = PlagiarismChecker(version_2, version_3)\n",
    "case3.detector()"
   ]
  },
  {
   "cell_type": "code",
   "execution_count": 13,
   "id": "917d2408",
   "metadata": {},
   "outputs": [
    {
     "data": {
      "text/plain": [
       "(100.0, '% of the ', 4, ' consequtive words are overlapping.')"
      ]
     },
     "execution_count": 13,
     "metadata": {},
     "output_type": "execute_result"
    }
   ],
   "source": [
    "#checking between version 1 and 1\n",
    "case3 = PlagiarismChecker(version_1, version_1)\n",
    "case3.detector()"
   ]
  },
  {
   "cell_type": "markdown",
   "id": "1215696f",
   "metadata": {},
   "source": [
    "## Brute force plagiarism detector"
   ]
  },
  {
   "cell_type": "code",
   "execution_count": 10,
   "id": "f3e00221",
   "metadata": {},
   "outputs": [],
   "source": [
    "def brute_force_checker(text_1, text_2, phrase_size = 4):\n",
    "    \"\"\"\n",
    "    Detect plagiarism given two texts with a brute-force approach\n",
    "    \n",
    "    Parameters\n",
    "    ----------\n",
    "    - text_1: list, the first text file with list of words\n",
    "    - text_2: list, the second text file with list of words\n",
    "    - phrase_size: int, how many sequence of words count as plagiarism\n",
    "    \n",
    "    Returns\n",
    "    ----------\n",
    "    result: float\n",
    "            the percentage of common phrases between two texts\n",
    "    \n",
    "    \"\"\"\n",
    "    # determine longer and shorter texts\n",
    "    if len(text_1) > len(text_2):\n",
    "        longer = text_1\n",
    "        shorter = text_2\n",
    "    else:\n",
    "        longer = text_2\n",
    "        shorter = text_1\n",
    "    \n",
    "    joined_shorter = []\n",
    "    \n",
    "    for i in range(len(shorter) - (phrase_size - 1)):\n",
    "        # concatenate phrase_size no. of words \n",
    "        tmp = \"\".join(shorter[i : i + phrase_size]) \n",
    "        # create a list with phrases\n",
    "        joined_shorter.append(tmp)\n",
    "        \n",
    "    long_start = 0\n",
    "    long_end = phrase_size\n",
    "    common_words = []\n",
    "    iterations = 0\n",
    "\n",
    "    while long_end < len(longer):\n",
    "        # concatenate the current words into phrases\n",
    "        current = longer[long_start : long_end]\n",
    "        joined_longer = \"\".join(current)\n",
    "\n",
    "        # search throught he phrase list of shorter text\n",
    "        if joined_longer in joined_shorter:\n",
    "            common_words.append(current)\n",
    "        \n",
    "        # redefine the phrase by sliding forward\n",
    "        long_start += 1\n",
    "        long_end += 1\n",
    "        iterations += 1\n",
    "\n",
    "    result = (len(common_words) / iterations) * 100\n",
    "    return (round(result,2), \"% of the \", phrase_size, \" consequtive words are overlapping.\")"
   ]
  },
  {
   "cell_type": "markdown",
   "id": "9df78636",
   "metadata": {},
   "source": [
    "## Test cases"
   ]
  },
  {
   "cell_type": "code",
   "execution_count": 11,
   "id": "685eb125",
   "metadata": {},
   "outputs": [
    {
     "data": {
      "text/plain": [
       "(25.0, '% of the ', 4, ' consequtive words are overlapping.')"
      ]
     },
     "execution_count": 11,
     "metadata": {},
     "output_type": "execute_result"
    }
   ],
   "source": [
    "text_1 = [\"I\", \"like\", \"to\", \"eat\", \"apple\", \"every\", \"morning\", \"listening\", \"to\", \"musics\"]\n",
    "text_2 = [\"I\", \"like\",\"to\", \"drink\", \"juice\", \"every\", \"morning\", \"listening\", \"to\", \"musics\", \"and\", \"playing\"]\n",
    "brute_force_checker(text_1, text_2)"
   ]
  },
  {
   "cell_type": "code",
   "execution_count": 12,
   "id": "dc41a4c5",
   "metadata": {},
   "outputs": [
    {
     "data": {
      "text/plain": [
       "(0.0, '% of the ', 4, ' consequtive words are overlapping.')"
      ]
     },
     "execution_count": 12,
     "metadata": {},
     "output_type": "execute_result"
    }
   ],
   "source": [
    "brute_force_checker(version_1, version_2)"
   ]
  },
  {
   "cell_type": "code",
   "execution_count": 13,
   "id": "fef1ead5",
   "metadata": {},
   "outputs": [
    {
     "data": {
      "text/plain": [
       "(0.0, '% of the ', 4, ' consequtive words are overlapping.')"
      ]
     },
     "execution_count": 13,
     "metadata": {},
     "output_type": "execute_result"
    }
   ],
   "source": [
    "brute_force_checker(version_1, version_3)"
   ]
  },
  {
   "cell_type": "code",
   "execution_count": 14,
   "id": "2d9535af",
   "metadata": {},
   "outputs": [
    {
     "data": {
      "text/plain": [
       "(0.0, '% of the ', 4, ' consequtive words are overlapping.')"
      ]
     },
     "execution_count": 14,
     "metadata": {},
     "output_type": "execute_result"
    }
   ],
   "source": [
    "brute_force_checker(version_2, version_3)"
   ]
  },
  {
   "cell_type": "code",
   "execution_count": 15,
   "id": "6538d435",
   "metadata": {},
   "outputs": [
    {
     "data": {
      "text/plain": [
       "(100.0, '% of the ', 4, ' consequtive words are overlapping.')"
      ]
     },
     "execution_count": 15,
     "metadata": {},
     "output_type": "execute_result"
    }
   ],
   "source": [
    "brute_force_checker(version_1, version_1)"
   ]
  },
  {
   "cell_type": "markdown",
   "id": "72adcb40",
   "metadata": {},
   "source": [
    "## Comparing Complexities of plagiarism detector"
   ]
  },
  {
   "cell_type": "code",
   "execution_count": 42,
   "id": "f6d6f124",
   "metadata": {},
   "outputs": [
    {
     "data": {
      "image/png": "[encoded data removed]",
      "text/plain": [
       "<Figure size 432x288 with 1 Axes>"
      ]
     },
     "metadata": {
      "needs_background": "light"
     },
     "output_type": "display_data"
    }
   ],
   "source": [
    "from time import process_time\n",
    "\n",
    "\n",
    "def num_items_vs_time_all(text_1, text_2):\n",
    "    \"\"\"\n",
    "    Compare average runtimes of the three \n",
    "    plagiarism detection methods\n",
    "\n",
    "    Parameters\n",
    "    ----------\n",
    "    - text_1: list\n",
    "        the text to compare with text_2\n",
    "    - text_2: list\n",
    "        the text to compare with text_1\n",
    "\n",
    "    Returns\n",
    "    -------\n",
    "    None\n",
    "        produces a #dataviz of the time complexities\n",
    "    \"\"\"\n",
    "    cbf_times = []\n",
    "    bf_times = []\n",
    "    \n",
    "    cbf_start_time = 0\n",
    "    bf_start_time = 0\n",
    "\n",
    "    ROUNDS = 10 # number of trials to take the average\n",
    "    upper_bound = 7000 # upper bound in the number of words\n",
    "    input_sizes = [i for i in range(10, upper_bound, 600)] \n",
    "\n",
    "    for i in input_sizes:\n",
    "        # Reset the runtime counters\n",
    "        cbf_total_time = 0\n",
    "        bf_total_time = 0\n",
    "\n",
    "        for _ in range(ROUNDS):\n",
    "            # CBF runtime tracker\n",
    "            cbf_detector = PlagiarismChecker(\n",
    "                text_1[:i],\n",
    "                text_2[:i],\n",
    "                phrase_size=4\n",
    "            )\n",
    "            cbf_start_time = process_time()\n",
    "            cbf_detector.detector()\n",
    "            cbf_total_time += process_time() - cbf_start_time\n",
    "\n",
    "            # brute-force runtime tracker\n",
    "            bf_start_time = process_time()\n",
    "            brute_force_checker(text_1[:i], text_2[:i])\n",
    "            bf_total_time += process_time() - bf_start_time\n",
    "\n",
    "\n",
    "        # Calculate the average runtime \n",
    "        cbf_times.append(cbf_total_time / ROUNDS)\n",
    "        bf_times.append(bf_total_time / ROUNDS)\n",
    "\n",
    "    plt.plot(input_sizes, cbf_times, label=\"CBF\")\n",
    "    plt.plot(input_sizes, bf_times, label=\"Brute Force\")\n",
    "\n",
    "    plt.xlabel(\"Input Size\")\n",
    "    plt.ylabel(\"Time Taken (seconds)\")\n",
    "    plt.title(\"Comparison of average runtimes of\" + \"\\n\" + \"different algorithms used to detect plagiarism\")\n",
    "\n",
    "    plt.legend()\n",
    "    plt.show()\n",
    "    \n",
    "# Test on Version 1 and 2\n",
    "num_items_vs_time_all(version_1, version_2)"
   ]
  }
 ],
 "metadata": {
  "kernelspec": {
   "display_name": "Python 3",
   "language": "python",
   "name": "python3"
  },
  "language_info": {
   "codemirror_mode": {
    "name": "ipython",
    "version": 3
   },
   "file_extension": ".py",
   "mimetype": "text/x-python",
   "name": "python",
   "nbconvert_exporter": "python",
   "pygments_lexer": "ipython3",
   "version": "3.8.8"
  }
 },
 "nbformat": 4,
 "nbformat_minor": 5
}
